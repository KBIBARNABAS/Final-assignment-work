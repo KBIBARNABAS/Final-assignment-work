{
 "cells": [
  {
   "cell_type": "code",
   "execution_count": 3,
   "id": "d8e2e6ff",
   "metadata": {},
   "outputs": [],
   "source": [
    "#importing sqlite3\n",
    "import sqlite3\n",
    "conn = sqlite3.connect('tcsassignment.db')\n",
    "curs = conn.cursor()"
   ]
  },
  {
   "cell_type": "code",
   "execution_count": null,
   "id": "66b5bd6a",
   "metadata": {},
   "outputs": [],
   "source": [
    "import pandas as pd"
   ]
  },
  {
   "cell_type": "code",
   "execution_count": 23,
   "id": "5728a56f",
   "metadata": {},
   "outputs": [
    {
     "data": {
      "text/plain": [
       "1000"
      ]
     },
     "execution_count": 23,
     "metadata": {},
     "output_type": "execute_result"
    }
   ],
   "source": [
    "#creating user table \n",
    "# Import sqlite3 module into\n",
    "\n",
    "import sqlite3 as sq\n",
    " \n",
    "# Import pandas module into\n",
    "\n",
    "import pandas as pd\n",
    "   \n",
    "# Create a connection object,\n",
    "\n",
    "connection = sq.connect('tcsassignment.db')\n",
    " \n",
    "# Create a cursor object\n",
    "curs = connection.cursor()\n",
    " \n",
    "# Run create table sql query\n",
    "curs.execute('''CREATE TABLE IF NOT EXISTS \"user\" (\n",
    "\t\"UserID\"\tINTEGER NOT NULL UNIQUE,\n",
    "\t\"EmployerNumber\"\tTEXT NOT NULL UNIQUE,\n",
    "\t\"Creationdate\"\tDATE NOT NULL,\n",
    "\t\"Username\"\tCHAR NOT NULL UNIQUE,\n",
    "\t\"Password\"\tCHAR NOT NULL UNIQUE,\n",
    "\t\"Level\"\tTEXT UNIQUE,\n",
    "\tPRIMARY KEY(\"UserID\" )\n",
    ");''' )\n",
    " \n",
    "# Load CSV data into Pandas DataFrame\n",
    "user = pd.read_csv('user.csv')\n",
    " \n",
    "# Write the data to a sqlite db table\n",
    "user.to_sql('user', connection, if_exists='replace', index=False)\n",
    "   \n"
   ]
  },
  {
   "cell_type": "code",
   "execution_count": null,
   "id": "fe3238e4",
   "metadata": {},
   "outputs": [],
   "source": [
    "#select from database platform table\n",
    "for row in curs.execute('SELECT * FROM user '):\n",
    "        print(row)"
   ]
  },
  {
   "cell_type": "code",
   "execution_count": 27,
   "id": "60dd6b99",
   "metadata": {},
   "outputs": [
    {
     "data": {
      "text/plain": [
       "1000"
      ]
     },
     "execution_count": 27,
     "metadata": {},
     "output_type": "execute_result"
    }
   ],
   "source": [
    "# Import sqlite3 module into\n",
    "\n",
    "import sqlite3 as sq\n",
    " \n",
    "# Import pandas module into\n",
    "\n",
    "import pandas as pd\n",
    "   \n",
    "# Create a connection object,\n",
    "\n",
    "connection = sq.connect('tcsassignment.db')\n",
    " \n",
    "# Create a cursor object\n",
    "curs = connection.cursor()\n",
    "#creating courses table\n",
    "curs.execute('''CREATE TABLE IF NOT EXISTS \"course\" (\n",
    "\t\"CourseID\"\tINTEGER NOT NULL UNIQUE,\n",
    "\t\"CourseName\"\tCHAR(50) NOT NULL UNIQUE,\n",
    "\t\"PlatformID\"\tINTEGER NOT NULL,\n",
    "\t\"Duration\"\tNUMERIC NOT NULL,\n",
    "\t\"CreationDate\"\tDATE NOT NULL,\n",
    "\t\"Tags\"\tTEXT NOT NULL,\n",
    "\t\"Photo\"\tBLOB,\n",
    "\tPRIMARY KEY(\"CourseID\")\n",
    ");''')\n",
    "# Load CSV data into Pandas DataFrame\n",
    "course = pd.read_csv('course.csv')\n",
    " \n",
    "# Write the data to a sqlite db table\n",
    "course.to_sql('course', connection, if_exists='replace', index=False)"
   ]
  },
  {
   "cell_type": "code",
   "execution_count": null,
   "id": "ff5dddf2",
   "metadata": {},
   "outputs": [],
   "source": [
    "#select from database user table\n",
    "for row in curs.execute('SELECT * FROM course '):\n",
    "        print(row)"
   ]
  },
  {
   "cell_type": "code",
   "execution_count": 29,
   "id": "bbe8b696",
   "metadata": {},
   "outputs": [
    {
     "data": {
      "text/plain": [
       "1000"
      ]
     },
     "execution_count": 29,
     "metadata": {},
     "output_type": "execute_result"
    }
   ],
   "source": [
    "# Import sqlite3 module into\n",
    "\n",
    "import sqlite3 as sq\n",
    " \n",
    "# Import pandas module into\n",
    "\n",
    "import pandas as pd\n",
    "   \n",
    "# Create a connection object,\n",
    "\n",
    "connection = sq.connect('tcsassignment.db')\n",
    " \n",
    "# Create a cursor object\n",
    "curs = connection.cursor()\n",
    "# creating platform table\n",
    "curs.execute('''CREATE TABLE IF NOT EXISTS \"platform\" (\n",
    "\t\"PlatformID\"\tINTEGER NOT NULL UNIQUE,\n",
    "\t\"Courses\"\tTEXT NOT NULL,\n",
    "\t\"Platformname\"\tTEXT NOT NULL UNIQUE,\n",
    "\t\"HyperlinkPath\"\tTEXT NOT NULL,\n",
    "\tPRIMARY KEY(\"PlatformID\")\n",
    ");''')\n",
    "# Load CSV data into Pandas DataFrame\n",
    "platform = pd.read_csv('platform.csv')\n",
    " \n",
    "# Write the data to a sqlite db table\n",
    "platform.to_sql('platform', connection, if_exists='replace', index=False)"
   ]
  },
  {
   "cell_type": "code",
   "execution_count": null,
   "id": "67e2f0af",
   "metadata": {},
   "outputs": [],
   "source": [
    "#select from database user table\n",
    "for row in curs.execute('SELECT * FROM platform '):\n",
    "        print(row)"
   ]
  },
  {
   "cell_type": "code",
   "execution_count": 30,
   "id": "17eac921",
   "metadata": {},
   "outputs": [
    {
     "data": {
      "text/plain": [
       "1000"
      ]
     },
     "execution_count": 30,
     "metadata": {},
     "output_type": "execute_result"
    }
   ],
   "source": [
    "# Import sqlite3 module into\n",
    "\n",
    "import sqlite3 as sq\n",
    " \n",
    "# Import pandas module into\n",
    "\n",
    "import pandas as pd\n",
    "   \n",
    "# Create a connection object,\n",
    "\n",
    "connection = sq.connect('tcsassignment.dbtcsassignment.dbtcsassignment.db')\n",
    " \n",
    "# Create a cursor object\n",
    "curs = connection.cursor()\n",
    "\n",
    "#ongoing training\n",
    "curs.execute('''CREATE TABLE IF NOT EXISTS \"ongoingTraining\"(\n",
    "\t\"TrainingID\"\tINTEGER NOT NULL UNIQUE,\n",
    "\t\"UserID\"\tINTEGER NOT NULL,\n",
    "\t\"CourseID\"\tINTEGER NOT NULL,\n",
    "\t\"Status\"\tTEXT NOT NULL,\n",
    "\t\"CompletionPercentage\"\tNUMERIC NOT NULL,\n",
    "\t\"StartDate\"\tDATE NOT NULL,\n",
    "\t\"FinishDate\"\tDATE NOT NULL,\n",
    "\t\"LastUpdated\"\tDATE NOT NULL,\n",
    "\tPRIMARY KEY(\"TrainingID\")\n",
    ");''')\n",
    "# Load CSV data into Pandas DataFrame\n",
    "ongoingTraining = pd.read_csv('ongoingTraining.csv')\n",
    " \n",
    "# Write the data to a sqlite db table\n",
    "ongoingTraining.to_sql('ongoingTraining', connection, if_exists='replace', index=False)"
   ]
  },
  {
   "cell_type": "code",
   "execution_count": null,
   "id": "ef69fd31",
   "metadata": {},
   "outputs": [],
   "source": [
    "#select from database user table\n",
    "for row in curs.execute('SELECT * FROM ongoingTraining '):\n",
    "        print(row)"
   ]
  },
  {
   "cell_type": "code",
   "execution_count": 31,
   "id": "0e5f8d7a",
   "metadata": {},
   "outputs": [
    {
     "data": {
      "text/plain": [
       "1000"
      ]
     },
     "execution_count": 31,
     "metadata": {},
     "output_type": "execute_result"
    }
   ],
   "source": [
    "# Import sqlite3 module into\n",
    "\n",
    "import sqlite3 as sq\n",
    " \n",
    "# Import pandas module into\n",
    "\n",
    "import pandas as pd\n",
    "   \n",
    "# Create a connection object,\n",
    "\n",
    "connection = sq.connect('tcsassignment.db')\n",
    " \n",
    "# Create a cursor object\n",
    "curs = connection.cursor()\n",
    "# creating certification table\n",
    "curs.execute('''CREATE TABLE IF NOT EXISTS \"certification\" (\n",
    "\t\"CertificationID\"\tINTEGER NOT NULL UNIQUE,\n",
    "\t\"UserID\"\tINTEGER NOT NULL,\n",
    "\t\"CourseID\"\tINTEGER NOT NULL,\n",
    "\t\"CompletionDuration\"\tNUMERIC NOT NULL,\n",
    "\t\"CompletionDate\"\tDATE,\n",
    "\tPRIMARY KEY(\"CertificationID\"),\n",
    "    \n",
    "\tFOREIGN KEY(\"UserID\") REFERENCES \"user\"(\"UserID\")\n",
    ");''')\n",
    "# Load CSV data into Pandas DataFrame\n",
    "certification = pd.read_csv('certification.csv')\n",
    " \n",
    "# Write the data to a sqlite db table\n",
    "certification.to_sql('certification', connection, if_exists='replace', index=False)"
   ]
  },
  {
   "cell_type": "code",
   "execution_count": null,
   "id": "577a478e",
   "metadata": {},
   "outputs": [],
   "source": [
    "#select from database user table\n",
    "for row in curs.execute('SELECT * FROM certification '):\n",
    "        print(row)"
   ]
  },
  {
   "cell_type": "code",
   "execution_count": 32,
   "id": "1b30df76",
   "metadata": {},
   "outputs": [
    {
     "data": {
      "text/plain": [
       "1000"
      ]
     },
     "execution_count": 32,
     "metadata": {},
     "output_type": "execute_result"
    }
   ],
   "source": [
    "# Import sqlite3 module into\n",
    "\n",
    "import sqlite3 as sq\n",
    " \n",
    "# Import pandas module into\n",
    "\n",
    "import pandas as pd\n",
    "   \n",
    "# Create a connection object,\n",
    "\n",
    "connection = sq.connect('tcsassignment.db')\n",
    " \n",
    "# Create a cursor object\n",
    "curs = connection.cursor()\n",
    "# creating reviews table\n",
    "curs.execute('''CREATE TABLE IF NOT EXISTS \"review\" (\n",
    "\t\"UserID\"\tINTEGER NOT NULL,\n",
    "\t\"CourseID\"\tINTEGER NOT NULL,\n",
    "\t\"Feedback\"\tTEXT NOT NULL,\n",
    "\t\"Likes\"\tTEXT NOT NULL,\n",
    "\t\"RankingScore\"\tINTEGER NOT NULL\n",
    ");''')\n",
    "# Load CSV data into Pandas DataFrame\n",
    "review = pd.read_csv('review.csv')\n",
    " \n",
    "# Write the data to a sqlite db table\n",
    "review.to_sql('review', connection, if_exists='replace', index=False)"
   ]
  },
  {
   "cell_type": "code",
   "execution_count": null,
   "id": "156bbcd4",
   "metadata": {},
   "outputs": [],
   "source": [
    "#select from database user table\n",
    "for row in curs.execute('SELECT * FROM review '):\n",
    "        print(row)"
   ]
  },
  {
   "cell_type": "code",
   "execution_count": 33,
   "id": "5468ab89",
   "metadata": {},
   "outputs": [
    {
     "data": {
      "text/plain": [
       "1000"
      ]
     },
     "execution_count": 33,
     "metadata": {},
     "output_type": "execute_result"
    }
   ],
   "source": [
    "# Import sqlite3 module into\n",
    "\n",
    "import sqlite3 as sq\n",
    " \n",
    "# Import pandas module into\n",
    "\n",
    "import pandas as pd\n",
    "   \n",
    "# Create a connection object,\n",
    "\n",
    "connection = sq.connect('tcsassignment.db')\n",
    "#creating photos table\n",
    "curs.execute('''CREATE TABLE IF NOT EXISTS \"photo\" (\n",
    "\t\"photoid\"\tINTEGER NOT NULL UNIQUE,\n",
    "\t\"CourseID\"\tINTEGER NOT NULL,\n",
    "\t\"PlatformID\"\tINTEGER NOT NULL,\n",
    "\t\"ImageObject\"\tBLOB,\n",
    "\tFOREIGN KEY(\"PlatformID\") REFERENCES \"platform\"(\"PlatformID\"),\n",
    "\tPRIMARY KEY(\"photoid\" )\n",
    ");''')\n",
    "# Load CSV data into Pandas DataFrame\n",
    "photo = pd.read_csv('photo.csv')\n",
    " \n",
    "# Write the data to a sqlite db table\n",
    "photo.to_sql('photo', connection, if_exists='replace', index=False)"
   ]
  },
  {
   "cell_type": "code",
   "execution_count": null,
   "id": "2994ba2d",
   "metadata": {},
   "outputs": [],
   "source": [
    "#select from database user table\n",
    "for row in curs.execute('SELECT * FROM photo '):\n",
    "        print(row)"
   ]
  },
  {
   "cell_type": "code",
   "execution_count": 5,
   "id": "2f5c2cf7",
   "metadata": {},
   "outputs": [
    {
     "data": {
      "text/plain": [
       "<sqlite3.Cursor at 0x7f3cabe93d50>"
      ]
     },
     "execution_count": 5,
     "metadata": {},
     "output_type": "execute_result"
    }
   ],
   "source": [
    "#update function\n",
    "import sqlite3\n",
    "conn = sqlite3.connect('tcsassignment.db')\n",
    "curs = conn.cursor()\n",
    "curs.execute('''\n",
    "                UPDATE user\n",
    "                SET EmployerNumber = 78999432\n",
    "                WHERE UserID = 9\n",
    "                ''')\n"
   ]
  },
  {
   "cell_type": "code",
   "execution_count": null,
   "id": "63ec6504",
   "metadata": {},
   "outputs": [],
   "source": [
    "for row in curs.execute('SELECT * FROM user WHERE UserID = 8 '):\n",
    "        print(row)"
   ]
  },
  {
   "cell_type": "code",
   "execution_count": null,
   "id": "6959e1ff",
   "metadata": {},
   "outputs": [],
   "source": [
    "# delete from database\n",
    "curs.execute('''\n",
    "               DELETE FROM user WHERE UserID = 6\n",
    "                ''')\n",
    "\n"
   ]
  },
  {
   "cell_type": "code",
   "execution_count": 18,
   "id": "1ae119b2",
   "metadata": {},
   "outputs": [
    {
     "name": "stdout",
     "output_type": "stream",
     "text": [
      "(5, 3510669339, '12/25/2020', 'cwhaplington4', '387ph8FTqTee', 'IV')\n"
     ]
    }
   ],
   "source": [
    "for row in curs.execute('SELECT * FROM user WHERE UserID = 5 '):\n",
    "        print(row)"
   ]
  },
  {
   "cell_type": "code",
   "execution_count": null,
   "id": "3782e701",
   "metadata": {},
   "outputs": [],
   "source": [
    "     for row in curs.execute('SELECT * FROM course WHERE CourseID = 8783195'):\n",
    "        print(row)"
   ]
  },
  {
   "cell_type": "code",
   "execution_count": null,
   "id": "fba9b2e7",
   "metadata": {},
   "outputs": [],
   "source": [
    "#Extracting sql for azure\n",
    "import sqlite3\n",
    "conn = sqlite3.connect(\"tcsassignment.db\")\n",
    "c = conn.cursor()\n",
    "\n",
    "print(\"Starting extract job..\")\n",
    "with open('CreateTables.sql', 'w') as f:\n",
    "    for tabledetails in c.execute(\"SELECT * FROM sqlite_master WHERE type='table'\"):\n",
    "        print(\"Extracting CREATE statement for \" + (str(tabledetails[1])))\n",
    "        print(tabledetails)\n",
    "        f.write(str(tabledetails[4].replace('\\n','') + ';\\n'))\n",
    "c.close()"
   ]
  },
  {
   "cell_type": "code",
   "execution_count": null,
   "id": "fa470b4f",
   "metadata": {},
   "outputs": [],
   "source": []
  }
 ],
 "metadata": {
  "kernelspec": {
   "display_name": "Python 3 (ipykernel)",
   "language": "python",
   "name": "python3"
  },
  "language_info": {
   "codemirror_mode": {
    "name": "ipython",
    "version": 3
   },
   "file_extension": ".py",
   "mimetype": "text/x-python",
   "name": "python",
   "nbconvert_exporter": "python",
   "pygments_lexer": "ipython3",
   "version": "3.9.12"
  }
 },
 "nbformat": 4,
 "nbformat_minor": 5
}
